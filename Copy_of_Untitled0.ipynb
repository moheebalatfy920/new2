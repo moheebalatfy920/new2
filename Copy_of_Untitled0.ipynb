{
  "nbformat": 4,
  "nbformat_minor": 0,
  "metadata": {
    "colab": {
      "provenance": [],
      "toc_visible": true,
      "history_visible": true,
      "authorship_tag": "ABX9TyOovQIYHCQim4QlMGCXU/sI"
    },
    "kernelspec": {
      "name": "python3",
      "display_name": "Python 3"
    },
    "language_info": {
      "name": "python"
    },
    "accelerator": "TPU"
  },
  "cells": [
#ziad
    {
      "cell_type": "code",
      "execution_count": null,
      "metadata": {
        "id": "y0ewd6jk-NHK"
      },
      "outputs": [],
      "source": [
        "Z=2+3\n"
      ]
    },
    {
      "cell_type": "code",
      "source": [],
      "metadata": {
        "id": "fpyWPK6p-ZKl"
      },
      "execution_count": null,
      "outputs": []
    }
  ]
}
